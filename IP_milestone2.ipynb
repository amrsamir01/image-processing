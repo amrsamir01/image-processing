{
 "cells": [
  {
   "cell_type": "code",
   "execution_count": 2,
   "id": "7ab9a2d4",
   "metadata": {
    "scrolled": true
   },
   "outputs": [
    {
     "name": "stdout",
     "output_type": "stream",
     "text": [
      "Requirement already satisfied: opencv-python in c:\\users\\amr01\\anaconda3\\lib\\site-packages (4.5.5.64)\n",
      "Requirement already satisfied: numpy>=1.17.3 in c:\\users\\amr01\\anaconda3\\lib\\site-packages (from opencv-python) (1.20.3)\n",
      "Note: you may need to restart the kernel to use updated packages.\n"
     ]
    }
   ],
   "source": [
    "pip install opencv-python"
   ]
  },
  {
   "cell_type": "code",
   "execution_count": 2,
   "id": "5854fb0d",
   "metadata": {},
   "outputs": [],
   "source": [
    "import glob\n",
    "import os\n",
    "import os.path\n",
    "import cv2\n",
    "import matplotlib.pyplot as plt\n",
    "import PIL\n",
    "from PIL import Image\n",
    "\n",
    "img_dir = \"C:/Users/amr01/OneDrive/Desktop/images\"\n",
    "data_path = os.path.join(img_dir,'*g')\n",
    "images = [cv2.imread(file,0) for file in glob.glob(data_path)]"
   ]
  },
  {
   "cell_type": "code",
   "execution_count": 3,
   "id": "92b9ee23",
   "metadata": {},
   "outputs": [],
   "source": [
    "f = r\"C:/Users/amr01/OneDrive/Desktop/images\"\n",
    "for file in os.listdir(f):\n",
    "    f_img = f+\"/\"+file\n",
    "    img = Image.open(f_img)\n",
    "    img = img.resize((500,500))\n",
    "    img.save(f_img)"
   ]
  },
  {
   "cell_type": "code",
   "execution_count": 8,
   "id": "97d9e70f",
   "metadata": {},
   "outputs": [],
   "source": [
    "import cv2\n",
    "import numpy as np\n",
    "import glob\n",
    "\n",
    "def auto_canny(image, sigma=0.33):\n",
    "    v = np.median(image)\n",
    "    lower = int(max(0, (1.0 - sigma) * v))\n",
    "    upper = int(min(255, (1.0 + sigma) * v))\n",
    "    return cv2.Canny(image, lower, upper)\n",
    "\n",
    "# Iterate through each image, perform edge detection, and save image\n",
    "number = 0\n",
    "for image in images:\n",
    "    canny = auto_canny(image)\n",
    "    cv2.imwrite('canny_{}.png'.format(number), canny)\n",
    "    number += 1"
   ]
  },
  {
   "cell_type": "code",
   "execution_count": 7,
   "id": "64919aed",
   "metadata": {},
   "outputs": [],
   "source": [
    "for fil in glob.glob(data_path):\n",
    "    image = cv2.imread(fil) \n",
    "    gray = cv2.cvtColor(image,cv2.COLOR_BGR2GRAY)\n",
    "    gray = np.float32(gray)\n",
    "    dst = cv2.cornerHarris(gray,2,3,0.04)\n",
    "    dst = cv2.dilate(dst,None)\n",
    "    image[dst>0.01*dst.max()]=[0,0,255]\n",
    "    cv2.imwrite(os.path.join(data_path,fil),image) "
   ]
  }
 ],
 "metadata": {
  "kernelspec": {
   "display_name": "Python 3 (ipykernel)",
   "language": "python",
   "name": "python3"
  },
  "language_info": {
   "codemirror_mode": {
    "name": "ipython",
    "version": 3
   },
   "file_extension": ".py",
   "mimetype": "text/x-python",
   "name": "python",
   "nbconvert_exporter": "python",
   "pygments_lexer": "ipython3",
   "version": "3.9.7"
  }
 },
 "nbformat": 4,
 "nbformat_minor": 5
}
